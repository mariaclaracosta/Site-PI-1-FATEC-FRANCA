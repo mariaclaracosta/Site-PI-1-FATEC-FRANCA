{
  "nbformat": 4,
  "nbformat_minor": 0,
  "metadata": {
    "colab": {
      "provenance": [],
      "authorship_tag": "ABX9TyNOTYTYutjSiMzZqVPCxazP",
      "include_colab_link": true
    },
    "kernelspec": {
      "name": "python3",
      "display_name": "Python 3"
    },
    "language_info": {
      "name": "python"
    }
  },
  "cells": [
    {
      "cell_type": "markdown",
      "metadata": {
        "id": "view-in-github",
        "colab_type": "text"
      },
      "source": [
        "<a href=\"https://colab.research.google.com/github/mariaclaracosta/Site-PI-1-FATEC-FRANCA/blob/main/Untitled0.ipynb\" target=\"_parent\"><img src=\"https://colab.research.google.com/assets/colab-badge.svg\" alt=\"Open In Colab\"/></a>"
      ]
    },
    {
      "cell_type": "code",
      "execution_count": null,
      "metadata": {
        "colab": {
          "base_uri": "https://localhost:8080/"
        },
        "id": "fpna4UpS3N36",
        "outputId": "3511432b-9f06-4fba-906b-82949f2b55a6"
      },
      "outputs": [
        {
          "output_type": "stream",
          "name": "stdout",
          "text": [
            "20\n",
            "vinte\n"
          ]
        }
      ],
      "source": [
        "idade = 20\n",
        "print(idade)\n",
        "idade = \"vinte\"\n",
        "print(idade)"
      ]
    },
    {
      "cell_type": "markdown",
      "source": [
        "Criação de variáveis"
      ],
      "metadata": {
        "id": "AxiYaZ-S70VR"
      }
    },
    {
      "cell_type": "code",
      "source": [
        "preco_unit = float(input('Valor do pix: '))\n",
        "#preco_unit = 5.0\n",
        "quant = float(input('Não pergunta só escreve um número '))\n",
        "#quant = 3\n",
        "quanto_vc_me_deve = preco_unit * quant\n",
        "print(f'Quanto vc me deve :D : {quanto_vc_me_deve}')"
      ],
      "metadata": {
        "colab": {
          "base_uri": "https://localhost:8080/"
        },
        "id": "P11Tr9JK7qU5",
        "outputId": "3d82678f-f39b-420b-e7ad-32c88faf5f5e"
      },
      "execution_count": null,
      "outputs": [
        {
          "output_type": "stream",
          "name": "stdout",
          "text": [
            "Valor do pix: 4\n",
            "Não pergunta só escreve um número 4\n",
            "Quanto vc me deve :D : 16.0\n"
          ]
        }
      ]
    },
    {
      "cell_type": "markdown",
      "source": [
        "Problema 1\n"
      ],
      "metadata": {
        "id": "kC0jDT7xC2PW"
      }
    },
    {
      "cell_type": "code",
      "source": [
        "vvalor = float(input('Valor: '))\n",
        "vperc = float(input('Percentual: %'))\n",
        "vaumento = vvalor + (vvalor * (vperc/100))\n",
        "print(f'Valor do Aumento: {vaumento}')"
      ],
      "metadata": {
        "colab": {
          "base_uri": "https://localhost:8080/"
        },
        "id": "1nF0m7-sC4vo",
        "outputId": "3f9dbfa8-5f5e-4498-c65e-2e202d98ede2"
      },
      "execution_count": null,
      "outputs": [
        {
          "output_type": "stream",
          "name": "stdout",
          "text": [
            "Valor: 1000\n",
            "Percentual: %30\n",
            "Valor do Aumento: 1300.0\n"
          ]
        }
      ]
    },
    {
      "cell_type": "markdown",
      "source": [
        "Problema 3"
      ],
      "metadata": {
        "id": "dqZMQq90MXhu"
      }
    },
    {
      "cell_type": "code",
      "source": [
        "vlado = float(input('Valor do lado: '))\n",
        "varea = vlado * vlado\n",
        "print(f'Área do quadrado: {varea}')"
      ],
      "metadata": {
        "colab": {
          "base_uri": "https://localhost:8080/"
        },
        "id": "CmLOjlqaMZc4",
        "outputId": "415fa8d4-f102-433b-96bc-3236b0528b40"
      },
      "execution_count": null,
      "outputs": [
        {
          "output_type": "stream",
          "name": "stdout",
          "text": [
            "Valor do lado: 3\n",
            "Área do quadrado: 9.0\n"
          ]
        }
      ]
    },
    {
      "cell_type": "markdown",
      "source": [
        "Problema 4"
      ],
      "metadata": {
        "id": "bVkJMWYGM9ET"
      }
    },
    {
      "cell_type": "code",
      "source": [
        "vkmh = float(input('quilometros: '))\n",
        "vms = vkmh / 3.6\n",
        "print(f'Valor em metros por segund: {vms}')\n"
      ],
      "metadata": {
        "colab": {
          "base_uri": "https://localhost:8080/"
        },
        "id": "tpPbSg1DM-s6",
        "outputId": "e1905062-c318-403d-ca0c-983fde0e27d3"
      },
      "execution_count": null,
      "outputs": [
        {
          "output_type": "stream",
          "name": "stdout",
          "text": [
            "quilometros: 72\n",
            "Valor em metros por segund: 20.0\n"
          ]
        }
      ]
    },
    {
      "cell_type": "markdown",
      "source": [
        "Problema 5"
      ],
      "metadata": {
        "id": "NBIWiU_9OOCF"
      }
    },
    {
      "cell_type": "code",
      "source": [
        "vbase = float(input('Valor da base: '))\n",
        "valtura = float(input('Valor da altura: '))\n",
        "varea = vbase * valtura / 2\n",
        "print(f'Valor da área: {varea}')"
      ],
      "metadata": {
        "colab": {
          "base_uri": "https://localhost:8080/"
        },
        "id": "0lLm9lOjOPmO",
        "outputId": "ca08aaaa-6c22-4742-e96a-6bb3bfac5da0"
      },
      "execution_count": null,
      "outputs": [
        {
          "output_type": "stream",
          "name": "stdout",
          "text": [
            "Valor da base: 2\n",
            "Valor da altura6\n",
            "Valor da área: 6.0\n"
          ]
        }
      ]
    },
    {
      "cell_type": "markdown",
      "source": [
        "Problema 6\n"
      ],
      "metadata": {
        "id": "WQJrbVcvPTSX"
      }
    },
    {
      "cell_type": "code",
      "source": [
        "vcomp = float(input('Valor do comprimento: '))\n",
        "valt = float(input('Valor da altura: '))\n",
        "vqtinta = vcomp * valt / 3\n",
        "print(f'Quantidade de tinta necessária em litros: {vqtinta}')"
      ],
      "metadata": {
        "colab": {
          "base_uri": "https://localhost:8080/"
        },
        "id": "EREGXIo0PVbG",
        "outputId": "b7d9d607-6986-4dba-e2d3-9adf38795a42"
      },
      "execution_count": null,
      "outputs": [
        {
          "output_type": "stream",
          "name": "stdout",
          "text": [
            "Valor do comprimento: 2\n",
            "Valor da altura: 9\n",
            "Quantidade de tinta necessária em litros: 6.0\n"
          ]
        }
      ]
    },
    {
      "cell_type": "markdown",
      "source": [
        "Problema 7"
      ],
      "metadata": {
        "id": "BPM8_t0kRSqa"
      }
    },
    {
      "cell_type": "code",
      "source": [
        "vD = float(input('Diagonal maior: '))\n",
        "vd = float(input('Diagonal menor: '))\n",
        "varea = vD * vd / 2\n",
        "print(f'Valora da área: {varea}')"
      ],
      "metadata": {
        "colab": {
          "base_uri": "https://localhost:8080/"
        },
        "id": "KfW8cTPHRUhJ",
        "outputId": "aea6e55e-136f-4239-be00-da3ee9e5c822"
      },
      "execution_count": null,
      "outputs": [
        {
          "output_type": "stream",
          "name": "stdout",
          "text": [
            "Diagonal maior: 8\n",
            "Diagonal menor: 6\n",
            "Valora da área: 24.0\n"
          ]
        }
      ]
    },
    {
      "cell_type": "markdown",
      "source": [
        "Problema 8"
      ],
      "metadata": {
        "id": "65XozR_xSJ_J"
      }
    },
    {
      "cell_type": "code",
      "source": [
        "vsalmin = float(input('Salário mínimo: '))\n",
        "vsalsen = float(input('Salário sênior: '))\n",
        "qsal = vsalsen / vsalmin\n",
        "print(f'Quantidade de salários mínimos: {qsal}')"
      ],
      "metadata": {
        "colab": {
          "base_uri": "https://localhost:8080/"
        },
        "id": "zTo6iVX6SLyk",
        "outputId": "4d28cea6-1fd3-4a74-b673-b4b9a76f8263"
      },
      "execution_count": null,
      "outputs": [
        {
          "output_type": "stream",
          "name": "stdout",
          "text": [
            "Salário mínimo: 100\n",
            "Salário sênior: 1000\n",
            "Quantidade de salários mínimos: 10.0\n"
          ]
        }
      ]
    },
    {
      "cell_type": "markdown",
      "source": [
        "Problema 9"
      ],
      "metadata": {
        "id": "aocN_QutVDLw"
      }
    },
    {
      "cell_type": "code",
      "source": [
        "vdolar = float(input('Dolar: '))\n",
        "veuro = float(input('Euro: '))\n",
        "vfranco = float(input('Franco Suíço: '))\n",
        "vreal = float(input('Digite um valor Maior que os outros em Real: '))\n",
        "vrdolar = round(vreal / vdolar, 2)\n",
        "vreuro = round(vreal / veuro, 2)\n",
        "vrfranco = round(vreal / vfranco, 2)\n",
        "print(f'Valor em dolar: {vrdolar} \\nValor em euro: {vreuro} \\nValor em franco suíço: {vrfranco}')"
      ],
      "metadata": {
        "colab": {
          "base_uri": "https://localhost:8080/"
        },
        "id": "SCTDqlinVIAv",
        "outputId": "9d6a720e-0c7d-4186-e2c0-4eac3a0c0dd5"
      },
      "execution_count": null,
      "outputs": [
        {
          "output_type": "stream",
          "name": "stdout",
          "text": [
            "Dolar: 4.95\n",
            "Euro: 5.39\n",
            "Franco Suíço: 5.61\n",
            "Digite um valor Maior que os outros em Real: 89\n",
            "Valor em dolar: 17.98 \n",
            "Valor em euro: 16.51 \n",
            "Valor em franco suíço: 15.86\n"
          ]
        }
      ]
    },
    {
      "cell_type": "markdown",
      "source": [
        "13/03\n",
        "Treino 1"
      ],
      "metadata": {
        "id": "uylhJbjP3Gpb"
      }
    },
    {
      "cell_type": "code",
      "source": [
        "num = int(input('Escolha um número: '))\n",
        "num2 = 1\n",
        "while(num2 <= 10 ):\n",
        "  print(num * num2)\n",
        "  num2 = num2 + 1"
      ],
      "metadata": {
        "colab": {
          "base_uri": "https://localhost:8080/"
        },
        "id": "7YUHLiOq3LpM",
        "outputId": "4708e66f-ce8e-4f80-960a-4a9ae8d482a9"
      },
      "execution_count": 8,
      "outputs": [
        {
          "output_type": "stream",
          "name": "stdout",
          "text": [
            "Escolha um número: 5\n",
            "5\n",
            "10\n",
            "15\n",
            "20\n",
            "25\n",
            "30\n",
            "35\n",
            "40\n",
            "45\n",
            "50\n"
          ]
        }
      ]
    },
    {
      "cell_type": "markdown",
      "source": [],
      "metadata": {
        "id": "RJv2E2t1-wsI"
      }
    },
    {
      "cell_type": "markdown",
      "source": [
        "Treino 2"
      ],
      "metadata": {
        "id": "FGNnfePH8Jht"
      }
    },
    {
      "cell_type": "code",
      "source": [
        "id1 = int(input('Idade 1: '))\n",
        "id2 = int(input('Idade 2: '))\n",
        "if (id1 > id2):\n",
        "  print(f'maior idade: {id1}')\n",
        "else:\n",
        "  print(f'maior idade: {id2}')"
      ],
      "metadata": {
        "colab": {
          "base_uri": "https://localhost:8080/"
        },
        "id": "yd6OhziG8NSN",
        "outputId": "4508d29f-3d22-4479-940e-429ab65e7b07"
      },
      "execution_count": 13,
      "outputs": [
        {
          "output_type": "stream",
          "name": "stdout",
          "text": [
            "Idade 1: 6\n",
            "Idade 2: 8\n",
            "maior idade: 8\n"
          ]
        }
      ]
    },
    {
      "cell_type": "markdown",
      "source": [
        "Tarefa\n",
        "\n",
        "1) Crie um algoritmo que receba o nome e a idade de uma pessoa. Caso a idade seja acima de 17 anos, escreva uma mensagem na tela conforme o modelo: Fulano, está apto para a carteira de motorista, idade: X. Caso contrário, calcule o tempo que falta até 18 anos e emita uma mensagem no modelo: Fulano, falta(m) X ano(s) para tirar a sua carta, idade: Y."
      ],
      "metadata": {
        "id": "CsTWjdEn98kP"
      }
    },
    {
      "cell_type": "code",
      "source": [
        "idd = int(input('Sua idade: '))\n",
        "if (idd > 17):\n",
        "  print(f'Você está apto para a carreira de motorista, idade: {idd}')\n",
        "else:\n",
        "  print(f'Você não está apto para a carteira de motorista, idade: {idd}, faltam {18 - idd} anos')"
      ],
      "metadata": {
        "colab": {
          "base_uri": "https://localhost:8080/"
        },
        "id": "5gGs626V-Aym",
        "outputId": "a001960a-fd0f-4898-b94d-4c7473b95dab"
      },
      "execution_count": 15,
      "outputs": [
        {
          "output_type": "stream",
          "name": "stdout",
          "text": [
            "Sua idade: 17\n",
            "Você não está apto para a carteira de motorista, idade: 17, faltam 1 anos\n"
          ]
        }
      ]
    },
    {
      "cell_type": "markdown",
      "source": [
        "Ex 2) Construa um algoritmo que leia 2 valores (reais) para as variáveis A e B, e efetue a troca dos valores de forma que a variável A passe a possuir o valor da variável B e a variável B passe a possuir o valor da variável A. Apresentar os valores trocados."
      ],
      "metadata": {
        "id": "pUikIxzf_E22"
      }
    },
    {
      "cell_type": "code",
      "source": [
        "a = int(input('Valor de A: '))\n",
        "b = int(input('Valor de B: '))\n",
        "c = 0\n",
        "c = a\n",
        "a = b\n",
        "b = c\n",
        "print(f'Valor de A: {a}')\n",
        "print(f'Valor de B: {b}')"
      ],
      "metadata": {
        "colab": {
          "base_uri": "https://localhost:8080/"
        },
        "id": "WYcNIJMJ_GKZ",
        "outputId": "e889054a-6469-4c8b-eaf3-4cfe7d4666cc"
      },
      "execution_count": 16,
      "outputs": [
        {
          "output_type": "stream",
          "name": "stdout",
          "text": [
            "Valor de A: 6\n",
            "Valor de B: 7\n",
            "Valor de A: 7\n",
            "Valor de B: 6\n"
          ]
        }
      ]
    },
    {
      "cell_type": "markdown",
      "source": [
        "Ex 3) Sabendo que o Valor da Gasolina é RS5.10 e o valor do Álcool é R$ 3.45, desenvolva um algoritmo que receba o tipo de combustível (‘A’ ou ‘G’); a quantidade de Km que o carro gasta por litro; e quantidade total de quilômetros que serão percorridos em uma viagem. Escreva na tela quantos litros serão gastos no percurso; e o valor que será gasto com o gasto com combustível."
      ],
      "metadata": {
        "id": "-pqt8zol_Gfm"
      }
    },
    {
      "cell_type": "code",
      "source": [
        "tipo = input('Tipo do combustível (Apenas \"A\" para álcool ou \"G\" para gásolina): ').upper()\n",
        "km_l = float(input('Quantos quilômetros o carro percorre com 1 litro: '))\n",
        "km_t = float(input('Quantos quilômetros será a viagem: '))\n",
        "l_g = km_t / km_l\n",
        "va = 3.45\n",
        "vg = 5.10\n",
        "if (tipo == 'A'):\n",
        "  print(f'Seram gastos {round(l_g * va, 2)} reais')\n",
        "else:\n",
        "  print(f'Seram gastos {round(l_g * vg, 2)} reais')"
      ],
      "metadata": {
        "colab": {
          "base_uri": "https://localhost:8080/"
        },
        "id": "VrPeV4Og_ICu",
        "outputId": "976e1284-47b7-41d9-8c61-0d3e24732136"
      },
      "execution_count": 39,
      "outputs": [
        {
          "output_type": "stream",
          "name": "stdout",
          "text": [
            "Tipo do combustível (Apenas \"A\" para álcool ou \"G\" para gásolina): a\n",
            "Quantos quilômetros o carro percorre com 1 litro: 5\n",
            "Quantos quilômetros será a viagem: 60\n",
            "Seram gastos 41.4 reais\n"
          ]
        }
      ]
    },
    {
      "cell_type": "markdown",
      "source": [
        "Ex 4) Faça um algoritmo que receba os valores de dia, mês e ano separadamente e escreva a data na tela. Exemplo: 13/03/2024"
      ],
      "metadata": {
        "id": "Pq0S_YJr_ITG"
      }
    },
    {
      "cell_type": "code",
      "source": [
        "d = input('Dia: ')\n",
        "m = input('Mês: ')\n",
        "a = input('Ano: ')\n",
        "print(f'{d}/{m}/{a}')"
      ],
      "metadata": {
        "colab": {
          "base_uri": "https://localhost:8080/"
        },
        "id": "eDIfJiJS_JRf",
        "outputId": "57b4b15c-ae8d-4577-c530-14b33326f188"
      },
      "execution_count": 41,
      "outputs": [
        {
          "output_type": "stream",
          "name": "stdout",
          "text": [
            "Dia: 25\n",
            "Mês: 12\n",
            "Ano: 2038\n",
            "25/12/2038\n"
          ]
        }
      ]
    },
    {
      "cell_type": "markdown",
      "source": [
        "Ex 5) Um lojista deseja criar um programa para calcular o desconto em uma compra. Se o valor da compra for maior que R$ 100, o cliente receberá 10% de desconto, caso contrário, não haverá desconto. Desenvolva um programa que receba o valor da compra e exiba o valor final com desconto, se houver"
      ],
      "metadata": {
        "id": "pqOMXld4_KA2"
      }
    },
    {
      "cell_type": "code",
      "source": [
        "v = float(input('Valor da compra: '))\n",
        "if (v > 100):\n",
        "  d = v * 0.1\n",
        "  print(f'Valor final {v - d}')\n",
        "else:\n",
        "  print(f'Valor final {v}')"
      ],
      "metadata": {
        "colab": {
          "base_uri": "https://localhost:8080/"
        },
        "id": "BXGH8qld_Jze",
        "outputId": "ac39faa5-a0eb-4221-f6a4-ba1b65b4f5a0"
      },
      "execution_count": 45,
      "outputs": [
        {
          "output_type": "stream",
          "name": "stdout",
          "text": [
            "Valor da compra: 200\n",
            "Valor final 180.0\n"
          ]
        }
      ]
    },
    {
      "cell_type": "markdown",
      "source": [
        "Ex 6) Dois candidatos concorreram às eleições para o cargo de Síndico de um condomínio. Com as cédulas de votação já separadas e somadas elabore um algoritmo que receba o nome e a quantidade de votos que os dois candidatos obtiveram. Escreva na tela: o nome, a quantidade, quantidade e o percentual de votos que cada candidato obteve por ordem do candidato que obteve mais votos e depois do candidato que obteve menos votos. Exemplo de mensagem: “O CANDIDATO w FOI O PRIMEIRO COLOCADO, OBTENDO A VOTAÇÃO: y, REPRESENTANDO X% DOS VOTOS”... “O CANDIDATO h FOI O SEGUNDO COLOCADO, OBTENDO A VOTAÇÃO: I, REPRESENTANDO J% DOS VOTOS”"
      ],
      "metadata": {
        "id": "Xm9jItcH_JhO"
      }
    },
    {
      "cell_type": "code",
      "source": [
        "c1_nome = input('Nome do candidato 1: ')\n",
        "qv1 = int(input('Quantidade de votos do primiro candidato: '))\n",
        "c2_nome = input('Nome do candidato 2: ')\n",
        "qv2 = int(input('Quantidade de votos do segundo candidato: '))\n",
        "t = qv1 + qv2\n",
        "p1 = float(qv1 / t * 100)\n",
        "p2 = float(qv2 / t * 100)\n",
        "if (qv1 > qv2):\n",
        "  print(f'Em 1°lugar: {c1_nome} com {round(p1, 2)}% de votos ({qv1}) votos)')\n",
        "  print(f'Em 2°lugar: {c2_nome} com {p2}% de votos ({qv2} votos)')\n",
        "else:\n",
        "  print(f'Em 1°lugar: {c2_nome} com {round(p2, 2)}% de votos ({qv2} votos)')\n",
        "  print(f'Em 1°lugar: {c1_nome} com {round(p1, 2)}% de votos ({qv1} votos)')"
      ],
      "metadata": {
        "colab": {
          "base_uri": "https://localhost:8080/"
        },
        "id": "SnzwGk-D_OHf",
        "outputId": "dd5e7324-0ee6-4400-b2cd-776cdc8f520b"
      },
      "execution_count": 55,
      "outputs": [
        {
          "output_type": "stream",
          "name": "stdout",
          "text": [
            "Nome do candidato 1: João\n",
            "Quantidade de votos do primiro candidato: 150\n",
            "Nome do candidato 2: Pedro\n",
            "Quantidade de votos do segundo candidato: 90\n",
            "Em 1°lugar: João com 62.5% de votos (150) votos)\n",
            "Em 2°lugar: Pedro com 37.5% de votos (90 votos)\n"
          ]
        }
      ]
    },
    {
      "cell_type": "markdown",
      "source": [
        "Ex 7) O Gestor de RH de uma empresa quer fazer uma simulação de cálculo de salário. Nesta simulação, os empregados com salário acima de 5000 receberão 5% de aumento, enquanto os empregados com salário abaixo desse valor, receberão 10%. Desenvolva um programa que receba o nome e salário do empregado, calcule o novo salário e apresente a mensagem na tela conforme exemplo: “O nomeempregado, SALÁRIO: x, ENTROU NA FAIXA DE x% DE AUMENTO E O SALÁRIO PASSOU DE y PARA z”"
      ],
      "metadata": {
        "id": "bz--m1Dj_SRo"
      }
    },
    {
      "cell_type": "code",
      "source": [
        "n = input('Nome do funcionário: ')\n",
        "s = int(input('Salário do funcionário: '))\n",
        "if (s >= 5000):\n",
        "  ns5 = round(s + s * 0.05, 2)\n",
        "  print(f'Nome: {n}, Salário: {s}, Entrou na faixa: 5%, Salário passou de {s} para {ns5}')\n",
        "else:\n",
        "  ns10 = s + s * 0.1\n",
        "  print(f'Nome: {n}, Salário: {s} Entrou na faixa: 10%, Salário passou de {s} para {ns10}')"
      ],
      "metadata": {
        "colab": {
          "base_uri": "https://localhost:8080/"
        },
        "id": "SFe60LOa_O-m",
        "outputId": "c7d97ff0-6615-47f0-c9fa-f9b480f24c1b"
      },
      "execution_count": 59,
      "outputs": [
        {
          "output_type": "stream",
          "name": "stdout",
          "text": [
            "Nome do funcionário: Tiago\n",
            "Salário do funcionário: 3000\n",
            "Nome: Tiago, Salário: 3000 Entrou na faixa: 10%, Salário passou de 3000 para 3300.0\n"
          ]
        }
      ]
    },
    {
      "cell_type": "markdown",
      "source": [
        "Ex 8) Uma escola deseja premiar os alunos com média geral no semestre acima de 9.0. Desenvolva um programa que receba as medias finais de um aluno nas cinco disciplinas do seu respectivo semestre e determine se ele receberá uma menção de destaque ou não."
      ],
      "metadata": {
        "id": "_55l0T4Q_Osu"
      }
    },
    {
      "cell_type": "code",
      "source": [
        "n1 = float(input('Nota 1: '))\n",
        "n2 = float(input('Nota 2: '))\n",
        "n3 = float(input('Nota 3: '))\n",
        "n4 = float(input('Nota 4: '))\n",
        "n5= float(input('Nota 5: '))\n",
        "mg = round((n1 + n2 + n3 + n4 + n5) / 5, 1)\n",
        "if (mg >= 9):\n",
        "  print(f'Recebe menção')\n",
        "else:\n",
        "  print(f'Não recebe menção')"
      ],
      "metadata": {
        "colab": {
          "base_uri": "https://localhost:8080/"
        },
        "id": "XvLRsq50_OhX",
        "outputId": "ea1923de-a816-4fd4-f51a-aadd0bc736b0"
      },
      "execution_count": 67,
      "outputs": [
        {
          "output_type": "stream",
          "name": "stdout",
          "text": [
            "Nota 1: 5\n",
            "Nota 2: 5\n",
            "Nota 3: 5\n",
            "Nota 4: 5\n",
            "Nota 5: 5\n",
            "Não recebe menção\n"
          ]
        }
      ]
    },
    {
      "cell_type": "markdown",
      "source": [
        "Ex 9) Uma academia deseja incentivar seus alunos a treinarem regularmente. Desenvolva um programa que receba o nome do aluno, o valor da mensalidade e a quantidade de dias de treinados pelo aluno dentro de um mês. O programa deverá conceder um desconto de 10% na mensalidade caso tenha treinado mais de 15 dias no mês, resultado na mensagem: “momealuno, POR TREINAR MAIS DE 15 DIAS NO MÊS VOCÊ RECEBEU 10% DE DESCONTO E O VALOR DE SUA PARCELA NESTE MÊS PASSOU DE x PARA y”.....“momealuno, VALOR DA MENSALIDADE: X”"
      ],
      "metadata": {
        "id": "QGfEUfnm_ORe"
      }
    },
    {
      "cell_type": "code",
      "source": [],
      "metadata": {
        "id": "dd4z3VGp_WT2"
      },
      "execution_count": null,
      "outputs": []
    },
    {
      "cell_type": "markdown",
      "source": [
        "Ex 10"
      ],
      "metadata": {
        "id": "ieyJ8npk_W2W"
      }
    },
    {
      "cell_type": "code",
      "source": [],
      "metadata": {
        "id": "kl5E46ZW_X3-"
      },
      "execution_count": null,
      "outputs": []
    },
    {
      "cell_type": "markdown",
      "source": [
        "Ex 11"
      ],
      "metadata": {
        "id": "riNNJ8zD_YH3"
      }
    },
    {
      "cell_type": "code",
      "source": [],
      "metadata": {
        "id": "ux2LaLZ5_ZJe"
      },
      "execution_count": null,
      "outputs": []
    },
    {
      "cell_type": "markdown",
      "source": [
        "Ex 12"
      ],
      "metadata": {
        "id": "oCEyzpJT_Zke"
      }
    },
    {
      "cell_type": "code",
      "source": [],
      "metadata": {
        "id": "G8RvuRXe_are"
      },
      "execution_count": null,
      "outputs": []
    }
  ]
}